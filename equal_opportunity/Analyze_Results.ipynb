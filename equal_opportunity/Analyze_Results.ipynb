{
 "cells": [
  {
   "cell_type": "code",
   "execution_count": 1,
   "id": "neither-authorization",
   "metadata": {},
   "outputs": [],
   "source": [
    "import pandas as pd\n",
    "import numpy as np\n",
    "from sklearn import metrics"
   ]
  },
  {
   "cell_type": "code",
   "execution_count": 2,
   "id": "fluid-macro",
   "metadata": {},
   "outputs": [],
   "source": [
    "def compute_auc(spd, accuracy):\n",
    "    sorted_inds = np.argsort(spd)\n",
    "    spd_ = np.hstack([min(spd), spd[sorted_inds], 1])\n",
    "    accuracy_ = np.hstack([0, accuracy[sorted_inds]/100, max(accuracy)/100])\n",
    "    auc_ours = metrics.auc(spd_, accuracy_)\n",
    "    return auc_ours"
   ]
  },
  {
   "cell_type": "code",
   "execution_count": 3,
   "id": "serious-premises",
   "metadata": {},
   "outputs": [],
   "source": [
    "folder = 'results'"
   ]
  },
  {
   "cell_type": "code",
   "execution_count": 4,
   "id": "fossil-columbus",
   "metadata": {},
   "outputs": [],
   "source": [
    "dataset = 'CommunitiesCrimeClassification'\n",
    "\n",
    "SPOD_FKDE = []\n",
    "SPOD_ours = []\n",
    "SPOD_ours_linear = []\n",
    "\n",
    "auc_FKDE_ = []\n",
    "auc_ours_ = []\n",
    "auc_ours_linear = []\n",
    "\n",
    "auc_zafar_ = []\n",
    "auc_sinkhorn_ = []\n",
    "accuracy_FKDE = []\n",
    "accuracy_ours = []\n",
    "accuracy_ours_linear = []\n",
    "\n",
    "accuracy_zafar = []\n",
    "SPOD_zafar = []\n",
    "\n",
    "accuracy_Sinkhorn = []\n",
    "SPOD_Sinkhorn = []\n",
    "\n",
    "times_ours, times_ours_linear, times_FKDE, times_zafar, times_Sinkhorn = [], [], [], [], []\n",
    "MMD = 0 if dataset == 'Adult' else 1\n",
    "for seed in range(10):\n",
    "    df_FKDE = pd.read_csv('{}/FKDE/{}_FKDE_{}_test.csv'.format(folder, dataset, seed), index_col=0)\n",
    "    SPOD_FKDE.append(np.array(df_FKDE.equal_opportunity))\n",
    "    accuracy_FKDE.append(np.array(df_FKDE.accuracy))\n",
    "    df_FKDE = pd.read_csv('{}/FKDE/{}_FKDE_{}_train.csv'.format(folder, dataset, seed), index_col=0)\n",
    "    times_FKDE.append(df_FKDE.time)\n",
    "    auc_FKDE_.append(compute_auc(SPOD_FKDE[seed], accuracy_FKDE[seed]))\n",
    "    \n",
    "    if MMD:\n",
    "        df_Sinkhorn = pd.read_csv('{}/NN_MMD_sinkhorn/{}_NN_Sinkhorn_AinX_test_{}.csv'.format(folder,dataset, seed), index_col=0)\n",
    "        SPOD_Sinkhorn.append(np.array(df_Sinkhorn.equal_opportunity))\n",
    "        accuracy_Sinkhorn.append(np.array(df_Sinkhorn.accuracy))\n",
    "        df_Sinkhorn = pd.read_csv('{}/NN_MMD_sinkhorn/{}_NN_Sinkhorn_AinX_train_{}.csv'.format(folder,dataset, seed), index_col=0)\n",
    "        times_Sinkhorn.append(df_Sinkhorn.time)\n",
    "        auc_sinkhorn_.append(compute_auc(SPOD_Sinkhorn[seed], accuracy_Sinkhorn[seed]))\n",
    "    \n",
    "    if dataset == 'Adult':\n",
    "        df_zafar = pd.read_csv('{}/zafar/{}_zafar_{}_test.csv'.format(folder,dataset, seed), index_col=0)\n",
    "        SPOD_zafar.append(np.array(df_zafar.equal_opportunity))\n",
    "        accuracy_zafar.append(np.array(df_zafar.accuracy))\n",
    "        df_zafar = pd.read_csv('{}/zafar/{}_zafar_{}_train.csv'.format(folder, dataset, seed), index_col=0)\n",
    "        times_zafar.append(df_zafar.time)\n",
    "        auc_zafar_.append(compute_auc(SPOD_zafar[seed], accuracy_zafar[seed]))\n",
    "    else:\n",
    "        df_zafar = pd.read_csv('{}/zafar/{}_zafar_{}_test.csv'.format(folder, dataset, seed), index_col=0)\n",
    "        SPOD_zafar.append(np.array(df_zafar.equal_opportunity))\n",
    "        accuracy_zafar.append(np.array(df_zafar.accuracy))\n",
    "        df_zafar = pd.read_csv('{}/zafar/{}_zafar_{}_train.csv'.format(folder,dataset, seed), index_col=0)\n",
    "        times_zafar.append(df_zafar.time)\n",
    "        auc_zafar_.append(compute_auc(SPOD_zafar[seed], accuracy_zafar[seed]))\n",
    "    df_ours = pd.read_csv('{}/NN_energy/{}_NN_AinX_test_{}.csv'.format(folder,dataset, seed), index_col=0)\n",
    "    SPOD_ours.append(np.array(df_ours.equal_opportunity))\n",
    "    accuracy_ours.append(np.array(df_ours.accuracy))\n",
    "    df_ours = pd.read_csv('{}/NN_energy/{}_NN_AinX_train_{}.csv'.format(folder,dataset, seed), index_col=0)\n",
    "    times_ours.append(df_ours.time)\n",
    "    auc_ours_.append(compute_auc(SPOD_ours[seed], accuracy_ours[seed]))\n",
    "    ###Ours linear\n",
    "    df_ours_linear = pd.read_csv('{}/NN_energy/{}_linear_AinX_test_{}.csv'.format(folder,dataset, seed), index_col=0)\n",
    "    if len(df_ours_linear)>0:\n",
    "        SPOD_ours_linear.append(np.array(df_ours_linear.statistical_parity_classification))\n",
    "        accuracy_ours_linear.append(np.array(df_ours_linear.accuracy))\n",
    "        df_ours_linear = pd.read_csv('{}/NN_energy/{}_linear_AinX_train_{}.csv'.format(folder, dataset, seed), index_col=0)\n",
    "        times_ours_linear.append(df_ours_linear.time)\n",
    "        auc_ours_linear.append(compute_auc(SPOD_ours_linear[seed], accuracy_ours_linear[seed]))"
   ]
  },
  {
   "cell_type": "code",
   "execution_count": 5,
   "id": "compatible-worst",
   "metadata": {},
   "outputs": [],
   "source": [
    "SPOD_FKDE_ave = np.array(SPOD_FKDE).mean(axis=0)\n",
    "SPOD_ours_ave = np.array(SPOD_ours).mean(axis=0)\n",
    "accuracy_FKDE_ave = np.array(accuracy_FKDE).mean(axis=0) \n",
    "accuracy_ours_ave = np.array(accuracy_ours).mean(axis=0)\n",
    "\n",
    "#SPOD_ours_linear_ave = np.array(SPOD_ours_linear).mean(axis=0)\n",
    "#accuracy_ours_linear_ave = np.array(accuracy_ours_linear).mean(axis=0)\n",
    "\n",
    "SPOD_zafar_ave = np.array(SPOD_zafar).mean(axis=0)\n",
    "accuracy_zafar_ave = np.array(accuracy_zafar).mean(axis=0)\n",
    "if MMD:\n",
    "    SPOD_Sinkhorn_ave = np.array(SPOD_Sinkhorn).mean(axis=0)\n",
    "    accuracy_Sinkhorn_ave = np.array(accuracy_Sinkhorn).mean(axis=0) \n",
    "    times_Sinkhorn = np.abs(times_Sinkhorn).mean()\n",
    "    sorted_SPOD_sinkhorn = np.argsort(SPOD_Sinkhorn_ave)\n",
    "    auc_sinkhorn = np.array(auc_sinkhorn_).mean()\n",
    "else:\n",
    "    auc_sinkhorn = '-'"
   ]
  },
  {
   "cell_type": "code",
   "execution_count": 6,
   "id": "clear-allergy",
   "metadata": {},
   "outputs": [],
   "source": [
    "auc_ours = np.array(auc_ours_).mean()\n",
    "#auc_ours_linear = np.array(auc_ours_linear).mean()\n",
    "\n",
    "\n",
    "auc_zafar = np.array(auc_zafar_).mean()\n",
    "auc_FKDE = np.array(auc_FKDE_).mean()"
   ]
  },
  {
   "cell_type": "code",
   "execution_count": 7,
   "id": "irish-feature",
   "metadata": {},
   "outputs": [
    {
     "data": {
      "text/plain": [
       "[0.8114621072653807,\n",
       " 0.8040021144785555,\n",
       " 0.8273902203578074,\n",
       " 0.8121853269224322,\n",
       " 0.8047826581319542,\n",
       " 0.8118609710458161,\n",
       " 0.8035666660961229,\n",
       " 0.8118189579023581,\n",
       " 0.7971276124263942,\n",
       " 0.8364835774373438]"
      ]
     },
     "execution_count": 7,
     "metadata": {},
     "output_type": "execute_result"
    }
   ],
   "source": [
    "auc_ours_linear"
   ]
  },
  {
   "cell_type": "code",
   "execution_count": 8,
   "id": "boring-sterling",
   "metadata": {},
   "outputs": [
    {
     "name": "stdout",
     "output_type": "stream",
     "text": [
      "ZAFAR: 0.749$\\pm$0.006\n",
      "Cho et al: 0.821$\\pm$0.006\n",
      "Oneta et al: 0.829$\\pm$0.01\n",
      "MFL: 0.83$\\pm$0.008\n",
      "MFL linear 0.812$\\pm$0.004\n"
     ]
    }
   ],
   "source": [
    "print('ZAFAR: {}$\\pm${}'.format(np.round(np.mean(auc_zafar_), 3), np.round(np.std(auc_zafar_)/np.sqrt(10),3)))\n",
    "print('Cho et al: {}$\\pm${}'.format(np.round(np.mean(auc_FKDE_), 3), np.round(np.std(auc_FKDE_)/np.sqrt(10),3)))\n",
    "if MMD:\n",
    "    print('Oneta et al: {}$\\pm${}'.format(np.round(np.mean(auc_sinkhorn_), 3), np.round(np.std(auc_sinkhorn_)/np.sqrt(10),3)))\n",
    "print('MFL: {}$\\pm${}'.format(np.round(np.mean(auc_ours_), 3), np.round(np.std(auc_ours_)/np.sqrt(10),3)))\n",
    "print('MFL linear {}$\\pm${}'.format(np.round(np.mean(auc_ours_linear), 3), np.round(np.std(auc_ours_linear)/np.sqrt(10),3)))\n"
   ]
  },
  {
   "cell_type": "code",
   "execution_count": 9,
   "id": "accredited-butter",
   "metadata": {},
   "outputs": [],
   "source": [
    "import matplotlib.pyplot as plt\n",
    "from matplotlib import rcParams\n",
    "from matplotlib.colors import ListedColormap\n",
    "from matplotlib import colors as mcolors\n",
    "colors = dict(mcolors.BASE_COLORS, **mcolors.CSS4_COLORS)\n",
    "rcParams['font.family'] = 'serif'\n",
    "rcParams['font.sans-serif'] = ['Times']\n",
    "rcParams.update({'font.size': 15})"
   ]
  },
  {
   "cell_type": "code",
   "execution_count": 10,
   "id": "asian-parts",
   "metadata": {},
   "outputs": [
    {
     "name": "stdout",
     "output_type": "stream",
     "text": [
      "AUC values: \n",
      " FKDE: 0.8209917963298686, ours: 0.8297240467825411, Oneto: 0.829394020824054\n",
      "AUC values: \n",
      " Zafar: 0.7487094210621885\n",
      "Training Time--> FKDE: 16.37982006931305 secs, ours: 2.415129035949707 secs, Zafar: 26.117169758796692, ourslinear: 2.0931477632522584\n",
      "Oneto: 152.3578565607071\n"
     ]
    },
    {
     "data": {
      "image/png": "[encoded data removed]",
      "text/plain": [
       "<Figure size 432x288 with 1 Axes>"
      ]
     },
     "metadata": {
      "needs_background": "light"
     },
     "output_type": "display_data"
    }
   ],
   "source": [
    "plt.close('all')\n",
    "s_ = 140\n",
    "\n",
    "\n",
    "\n",
    "if MMD:\n",
    "    plt.scatter(SPOD_Sinkhorn_ave, accuracy_Sinkhorn_ave/100,\n",
    "                c=colors['yellow'], \n",
    "                label='Oneto et al.',\n",
    "                marker='d', s=s_+20, edgecolors='k', alpha=.7)\n",
    "plt.scatter(SPOD_ours_ave, accuracy_ours_ave/100, \n",
    "            c=colors['limegreen'],\n",
    "            label='MFL (NN)', marker='o', s=s_, edgecolors='k', alpha=.7)\n",
    "plt.scatter(SPOD_FKDE_ave, accuracy_FKDE_ave/100,\n",
    "            c=colors['darkblue'], \n",
    "            label='Cho et al.',\n",
    "            marker='^', s=s_, edgecolors='k', alpha=.7)\n",
    "\n",
    "\n",
    "plt.xlabel('Equal Opportunity')\n",
    "plt.ylabel('Accuracy')\n",
    "plt.legend()\n",
    "rcParams['font.family'] = 'serif'\n",
    "rcParams['font.sans-serif'] = ['Times']\n",
    "rcParams.update({'font.size': 15})\n",
    "plt.grid(alpha=.3)\n",
    "plt.tight_layout()\n",
    "plt.savefig('plots/'+dataset + '.pdf')\n",
    "\n",
    "times_ours = np.abs(times_ours).mean()\n",
    "times_ours_linear = np.abs(times_ours_linear).mean()\n",
    "times_FKDE = np.abs(times_FKDE).mean()\n",
    "times_zafar = np.abs(times_zafar).mean()\n",
    "if MMD:\n",
    "    times_oneto = np.abs(times_Sinkhorn).mean()\n",
    "\n",
    "print('AUC values: \\n FKDE: {}, ours: {}, Oneto: {}'.format(auc_FKDE, auc_ours, auc_sinkhorn))\n",
    "print('AUC values: \\n Zafar: {}'.format(auc_zafar))\n",
    "print('Training Time--> FKDE: {} secs, ours: {} secs, Zafar: {}, ourslinear: {}'.format(times_FKDE, times_ours, times_zafar, times_ours_linear))\n",
    "if MMD:\n",
    "    print('Oneto: {}'.format(times_oneto))"
   ]
  },
  {
   "cell_type": "code",
   "execution_count": null,
   "id": "complimentary-phase",
   "metadata": {},
   "outputs": [],
   "source": []
  }
 ],
 "metadata": {
  "kernelspec": {
   "display_name": "Python 3",
   "language": "python",
   "name": "python3"
  },
  "language_info": {
   "codemirror_mode": {
    "name": "ipython",
    "version": 3
   },
   "file_extension": ".py",
   "mimetype": "text/x-python",
   "name": "python",
   "nbconvert_exporter": "python",
   "pygments_lexer": "ipython3",
   "version": "3.8.8"
  }
 },
 "nbformat": 4,
 "nbformat_minor": 5
}

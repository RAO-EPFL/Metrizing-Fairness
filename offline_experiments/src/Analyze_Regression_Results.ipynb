{
 "cells": [
  {
   "cell_type": "code",
   "execution_count": null,
   "id": "acknowledged-township",
   "metadata": {},
   "outputs": [],
   "source": [
    "import os\n",
    "import pickle\n",
    "\n",
    "import numpy as np\n",
    "import pandas as pd\n",
    "import matplotlib.pyplot as plt\n",
    "import seaborn as sns\n",
    "\n",
    "from sklearn.metrics import auc"
   ]
  },
  {
   "cell_type": "code",
   "execution_count": null,
   "id": "given-concept",
   "metadata": {},
   "outputs": [],
   "source": [
    "CVX_FOLDER = 'results_regression/cvx_regression_baseline/'\n",
    "OUR_FOLDER = 'results/NN_energy_regression/'"
   ]
  },
  {
   "cell_type": "code",
   "execution_count": null,
   "id": "assigned-thailand",
   "metadata": {},
   "outputs": [],
   "source": [
    "our_results = [file for file in os.listdir(OUR_FOLDER) if not file[0]=='.']\n",
    "cvx_results = [file for file in os.listdir(CVX_FOLDER) if not file[0]=='.']"
   ]
  },
  {
   "cell_type": "code",
   "execution_count": null,
   "id": "minute-rover",
   "metadata": {},
   "outputs": [],
   "source": [
    "datasets_ours = set([file.split('_')[0] for file in our_results])\n",
    "datasets_cvx = set([file.split('_')[0] for file in cvx_results])"
   ]
  },
  {
   "cell_type": "code",
   "execution_count": null,
   "id": "elder-sailing",
   "metadata": {},
   "outputs": [],
   "source": [
    "fair_metric = 'statistical_parity'\n",
    "acc_metric = 'R2'"
   ]
  },
  {
   "cell_type": "code",
   "execution_count": null,
   "id": "pending-explosion",
   "metadata": {},
   "outputs": [],
   "source": [
    "our_method = 'linearregression'\n",
    "dataset = 'StudentsPortugese'\n",
    "dset = 'test'\n",
    "\n",
    "aucs = []\n",
    "for i in range(10):\n",
    "    res = pd.read_csv('{}{}_{}_{}_{}.csv'.format(OUR_FOLDER, dataset, our_method, dset, i), index_col=0)[[fair_metric, acc_metric]]\n",
    "    res[res<0.0] = 0\n",
    "    res = res.append({\n",
    "        fair_metric: 1,\n",
    "        acc_metric : res[acc_metric].max()\n",
    "    }, ignore_index=True)\n",
    "    res = res.append({\n",
    "        fair_metric: res[fair_metric].min(),\n",
    "        acc_metric : 0\n",
    "    }, ignore_index=True).sort_values(fair_metric)\n",
    "    aucs.append(auc(res[fair_metric], res[acc_metric]))"
   ]
  },
  {
   "cell_type": "code",
   "execution_count": null,
   "id": "overall-remains",
   "metadata": {},
   "outputs": [],
   "source": [
    "import matplotlib.pyplot as plt\n",
    "from matplotlib.colors import ListedColormap\n",
    "from matplotlib import colors as mcolors\n",
    "from matplotlib import rcParams\n",
    "colors = dict(mcolors.BASE_COLORS, **mcolors.CSS4_COLORS)\n",
    "s_ = 140"
   ]
  },
  {
   "cell_type": "code",
   "execution_count": null,
   "id": "broadband-aside",
   "metadata": {},
   "outputs": [],
   "source": [
    "def plot_dataset(dataset, dset, ylim, plot_legend=True, AUC=False, errorbars=False, title=False):\n",
    "    print(f'{dataset}')\n",
    "    if dset == 'train':\n",
    "        print('Training times')\n",
    "    else:\n",
    "        print('AUCs')\n",
    "    for our_method in ['NN', 'linearregression']:\n",
    "        our_results = [pd.read_csv('{}{}_{}_{}_{}.csv'.format(OUR_FOLDER, dataset, our_method, dset, i), index_col=0) for i in range(10)]\n",
    "        our_results = pd.concat(our_results).groupby('lambda_').agg(['mean', 'std'])\n",
    "        # compute AUC`\n",
    "        aucs = []\n",
    "        times = []\n",
    "        for i in range(10):\n",
    "            if dset == 'train':\n",
    "                times.append(pd.read_csv('{}{}_{}_{}_{}.csv'.format(OUR_FOLDER, dataset, our_method, dset, i), index_col=0).time)\n",
    "            res = pd.read_csv('{}{}_{}_{}_{}.csv'.format(OUR_FOLDER, dataset, our_method, dset, i), index_col=0)[[fair_metric, acc_metric]]\n",
    "            res[res<0.0] = 0\n",
    "            res = res.append({\n",
    "                fair_metric: 1,\n",
    "                acc_metric : res[acc_metric].max()\n",
    "            }, ignore_index=True)\n",
    "            res = res.append({\n",
    "                fair_metric: res[fair_metric].min(),\n",
    "                acc_metric : 0\n",
    "            }, ignore_index=True).sort_values(fair_metric)\n",
    "            aucs.append(auc(res[fair_metric], res[acc_metric]))\n",
    "        if errorbars:\n",
    "            plt.errorbar(our_results[fair_metric]['mean'], \n",
    "                         our_results[acc_metric]['mean'],\n",
    "                         xerr = our_results[fair_metric]['std'], \n",
    "                         yerr = our_results[acc_metric]['std'], \n",
    "                         fmt='o', \n",
    "                         ecolor='lightgrey',\n",
    "                         label='MFL ({}): AUC={}({})'.format('NN' if our_method=='NN' else 'Linear', np.mean(aucs).round(3), np.std(aucs).round(3)) if AUC \n",
    "                         else 'MFL ({})'.format('NN' if our_method=='NN' else 'Linear'))\n",
    "        else:\n",
    "            plt.scatter(our_results[fair_metric]['mean'], \n",
    "                         our_results[acc_metric]['mean'],\n",
    "                         marker = 'o' if our_method=='NN' else 'v',\n",
    "                         label='MFL ({}): AUC={}({})'.format('NN' if our_method=='NN' else 'Linear', np.mean(aucs).round(3), np.std(aucs).round(3)) if AUC \n",
    "                         else 'MFL ({})'.format('NN' if our_method=='NN' else 'Linear'),\n",
    "                         s=s_, edgecolors='k', alpha=.7,\n",
    "                         c=colors['limegreen'] if our_method=='NN' else colors['yellow'])\n",
    "        if dset == 'train':\n",
    "            print(f'Ours {our_method}: {np.abs(times).mean()}')\n",
    "        else:\n",
    "            print(f'Ours {our_method}: {np.mean(aucs)}({np.std(aucs)})')\n",
    "            \n",
    "\n",
    "    for cvx_method in ['individual', 'group']:\n",
    "        cvx_results = [pd.read_csv('{}{}_cvx-bl-0_{}_{}_{}.csv'.format(CVX_FOLDER, dataset, cvx_method, dset, i), index_col=0) for i in range(10)]\n",
    "        cvx_results = pd.concat(cvx_results).groupby('lambda_').agg(['mean', 'std'])\n",
    "        # compute AUC\n",
    "        aucs = []\n",
    "        times = []\n",
    "        for i in range(10):\n",
    "            if dset == 'train':\n",
    "                times.append(pd.read_csv('{}{}_cvx-bl-0_{}_{}_{}.csv'.format(CVX_FOLDER, dataset, cvx_method, dset, i), index_col=0).time)\n",
    "            res = pd.read_csv('{}{}_cvx-bl-0_{}_{}_{}.csv'.format(CVX_FOLDER, dataset, cvx_method, dset, i), index_col=0)[[fair_metric, acc_metric]]\n",
    "            res[res<0.0] = 0\n",
    "            res = res.append({\n",
    "                fair_metric: 1,\n",
    "                acc_metric : res[acc_metric].max()\n",
    "            }, ignore_index=True)\n",
    "            res = res.append({\n",
    "                fair_metric: res[fair_metric].min(),\n",
    "                acc_metric : 0\n",
    "            }, ignore_index=True).sort_values(fair_metric)\n",
    "            aucs.append(auc(res[fair_metric], res[acc_metric]))\n",
    "        \n",
    "        if errorbars:\n",
    "            plt.errorbar(cvx_results[fair_metric]['mean'], \n",
    "                         cvx_results[acc_metric]['mean'],\n",
    "                         xerr = cvx_results[fair_metric]['std'], \n",
    "                         yerr = cvx_results[acc_metric]['std'], \n",
    "                         fmt='o', \n",
    "                         ecolor='lightgrey',\n",
    "                         label='Berk et al. ({}): AUC={}({})'.format(cvx_method, np.mean(aucs).round(3), np.std(aucs).round(3)) if AUC\n",
    "                         else 'Berk et al. ({})'.format(cvx_method))\n",
    "        else:\n",
    "            plt.scatter(cvx_results[fair_metric]['mean'], \n",
    "                         cvx_results[acc_metric]['mean'],\n",
    "                         marker = 's' if cvx_method=='individual' else 'P',\n",
    "                         label='Berk et al. ({}): AUC={}({})'.format(cvx_method, np.mean(aucs).round(3), np.std(aucs).round(3)) if AUC\n",
    "                         else 'Berk et al. ({})'.format(cvx_method),\n",
    "                         s=s_, edgecolors='k', alpha=.7,\n",
    "                         c=colors['indianred'] if cvx_method=='individual' else colors['darkblue'])\n",
    "        if dset == 'train':\n",
    "            print(f'CVX {cvx_method}: {np.abs(times).mean()}')\n",
    "        else:\n",
    "            print(f'CVX  {cvx_method}: {np.mean(aucs)}({np.std(aucs)})')\n",
    "    #plt.ylim(ylim)\n",
    "    plt.xlabel('SP (Kolmogorov distance)')\n",
    "    plt.ylabel(acc_metric)\n",
    "    if title:\n",
    "        plt.title('{} Results'.format(dset.capitalize()))\n",
    "        \n",
    "    if plot_legend:\n",
    "        plt.legend(loc='lower right')\n",
    "    rcParams['font.family'] = 'serif'\n",
    "    rcParams['font.sans-serif'] = ['Times']\n",
    "    rcParams.update({'font.size': 15})\n",
    "    plt.grid(alpha=.3)\n",
    "    plt.tight_layout()"
   ]
  },
  {
   "cell_type": "code",
   "execution_count": null,
   "id": "neutral-baptist",
   "metadata": {},
   "outputs": [],
   "source": [
    "ylim = {\n",
    "    'CommunitiesCrime' : (0,0.2),\n",
    "    'StudentsMath' : (0,30),\n",
    "    'StudentsPortugese' : (0,30)\n",
    "} if acc_metric == 'MSE' else {\n",
    "    'CommunitiesCrime' : (-0.2,1),\n",
    "    'StudentsMath' : (-0.2,1),\n",
    "    'StudentsPortugese' : (-0.2,1)\n",
    "}"
   ]
  },
  {
   "cell_type": "code",
   "execution_count": null,
   "id": "amino-mortality",
   "metadata": {},
   "outputs": [],
   "source": [
    "for dataset in datasets_cvx:\n",
    "    plt.figure(figsize=(12,5))\n",
    "    plt.subplot(1,2,1)\n",
    "    plot_dataset(dataset, 'train', ylim[dataset])\n",
    "    plt.subplot(1,2,2)\n",
    "    plot_dataset(dataset, 'test', ylim[dataset])\n",
    "    plt.suptitle(dataset)\n",
    "    plt.show()"
   ]
  },
  {
   "cell_type": "code",
   "execution_count": null,
   "id": "dominican-bulgaria",
   "metadata": {},
   "outputs": [],
   "source": [
    "for dataset in datasets_cvx:\n",
    "    plot_dataset(dataset, 'test', ylim[dataset])\n",
    "    plt.ylim(0,1)\n",
    "    plt.savefig(f'plots/regression_{dataset}.pdf')\n",
    "    plt.show()"
   ]
  },
  {
   "cell_type": "code",
   "execution_count": null,
   "id": "joint-binding",
   "metadata": {},
   "outputs": [],
   "source": []
  }
 ],
 "metadata": {
  "kernelspec": {
   "display_name": "Python 3",
   "language": "python",
   "name": "python3"
  },
  "language_info": {
   "codemirror_mode": {
    "name": "ipython",
    "version": 3
   },
   "file_extension": ".py",
   "mimetype": "text/x-python",
   "name": "python",
   "nbconvert_exporter": "python",
   "pygments_lexer": "ipython3",
   "version": "3.8.8"
  }
 },
 "nbformat": 4,
 "nbformat_minor": 5
}
